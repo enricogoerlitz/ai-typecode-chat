{
 "cells": [
  {
   "cell_type": "code",
   "execution_count": 10,
   "metadata": {},
   "outputs": [],
   "source": [
    "import os\n",
    "import json"
   ]
  },
  {
   "cell_type": "code",
   "execution_count": 11,
   "metadata": {},
   "outputs": [],
   "source": [
    "src_path = \"../documents\"\n",
    "dist_path = \"./data/01-extract\"\n",
    "meta_path = \"./data/01-extract/__meta.json\""
   ]
  },
  {
   "cell_type": "code",
   "execution_count": 12,
   "metadata": {},
   "outputs": [
    {
     "name": "stdout",
     "output_type": "stream",
     "text": [
      "Files 0 / 2906\n",
      "Files 100 / 2906\n",
      "Files 200 / 2906\n",
      "Files 300 / 2906\n",
      "Files 400 / 2906\n",
      "Files 500 / 2906\n",
      "Files 600 / 2906\n",
      "Files 700 / 2906\n",
      "Files 800 / 2906\n",
      "Files 900 / 2906\n",
      "Files 1000 / 2906\n",
      "Files 1100 / 2906\n",
      "Files 1200 / 2906\n",
      "Files 1300 / 2906\n",
      "Files 1400 / 2906\n",
      "Files 1500 / 2906\n",
      "Files 1600 / 2906\n",
      "Files 1700 / 2906\n",
      "Files 1800 / 2906\n",
      "Files 1900 / 2906\n",
      "Files 2000 / 2906\n",
      "Files 2100 / 2906\n",
      "Files 2200 / 2906\n",
      "Files 2300 / 2906\n",
      "Files 2400 / 2906\n",
      "Files 2500 / 2906\n",
      "Files 2600 / 2906\n",
      "Files 2700 / 2906\n",
      "Files 2800 / 2906\n",
      "Files 2900 / 2906\n"
     ]
    }
   ],
   "source": [
    "meta = {}\n",
    "with open(meta_path, \"r\") as f:\n",
    "    meta = json.loads(f.read())\n",
    "\n",
    "processed_files: list[str] = meta[\"processdFiles\"]\n",
    "for _, _, files in os.walk(src_path):\n",
    "    count = len(files) - 1\n",
    "    for i, file in enumerate(files):\n",
    "        if not file.endswith(\".imt.txt\"):\n",
    "            continue\n",
    "        \n",
    "        if i % 100 == 0:\n",
    "            print(f\"Files {i} / {count}\")\n",
    "                \n",
    "        filepath = os.path.join(src_path, file)\n",
    "        migrate_filepath = os.path.join(dist_path, file.replace(\".imt.txt\", \".txt\"))\n",
    "        with open(filepath, \"r\") as f:\n",
    "            doc = json.loads(f.readline())\n",
    "            doc[\"documentName\"] = doc[\"doc_name\"]\n",
    "            del doc[\"doc_id\"]\n",
    "            del doc[\"doc_name\"]\n",
    "            del doc[\"typcode\"]\n",
    "            del doc[\"device_id\"]\n",
    "\n",
    "            content = f.read()\n",
    "\n",
    "            migrate_content = json.dumps(doc) + content\n",
    "        \n",
    "        with open(migrate_filepath, \"w\") as f:\n",
    "            f.write(migrate_content)\n",
    "        \n",
    "        processed_files.append(file.replace(\".imt.txt\", \"\"))\n",
    "\n",
    "with open(meta_path, \"w\") as f:\n",
    "    f.write(json.dumps(meta, indent=4))"
   ]
  },
  {
   "cell_type": "code",
   "execution_count": 13,
   "metadata": {},
   "outputs": [
    {
     "name": "stdout",
     "output_type": "stream",
     "text": [
      "2906\n"
     ]
    }
   ],
   "source": [
    "for _, _, files in os.walk(dist_path):\n",
    "    print(len(files))"
   ]
  }
 ],
 "metadata": {
  "kernelspec": {
   "display_name": "base",
   "language": "python",
   "name": "python3"
  },
  "language_info": {
   "codemirror_mode": {
    "name": "ipython",
    "version": 3
   },
   "file_extension": ".py",
   "mimetype": "text/x-python",
   "name": "python",
   "nbconvert_exporter": "python",
   "pygments_lexer": "ipython3",
   "version": "3.11.4"
  }
 },
 "nbformat": 4,
 "nbformat_minor": 2
}
