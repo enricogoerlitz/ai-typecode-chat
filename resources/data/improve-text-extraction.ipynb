{
 "cells": [
  {
   "cell_type": "markdown",
   "metadata": {},
   "source": [
    "# Improve data extraction"
   ]
  },
  {
   "cell_type": "code",
   "execution_count": 1,
   "metadata": {},
   "outputs": [],
   "source": [
    "import cv2\n",
    "import json\n",
    "import pytesseract\n",
    "\n",
    "from pdf2image import convert_from_path\n",
    "from textblob import TextBlob"
   ]
  },
  {
   "cell_type": "code",
   "execution_count": 2,
   "metadata": {},
   "outputs": [],
   "source": [
    "filepath = \"./imt/files/86971.pdf\""
   ]
  },
  {
   "cell_type": "markdown",
   "metadata": {},
   "source": [
    "# 1. OCR"
   ]
  },
  {
   "cell_type": "code",
   "execution_count": 9,
   "metadata": {},
   "outputs": [],
   "source": [
    "\n",
    "images = convert_from_path(filepath)\n",
    "text = \"\\n\".join(pytesseract.image_to_string(img) for img in images)\n",
    "\n",
    "with open(\"./output.txt\", \"w\") as f:\n",
    "    f.write(text)"
   ]
  },
  {
   "cell_type": "code",
   "execution_count": 3,
   "metadata": {},
   "outputs": [
    {
     "name": "stdout",
     "output_type": "stream",
     "text": [
      "[\n",
      "  {\n",
      "    \"tables\": \"\",\n",
      "    \"text\": \"\"\n",
      "  },\n",
      "  {\n",
      "    \"tables\": \"\",\n",
      "    \"text\": \"\"\n",
      "  },\n",
      "  {\n",
      "    \"tables\": \"\",\n",
      "    \"text\": \"\"\n",
      "  },\n",
      "  {\n",
      "    \"tables\": \"\",\n",
      "    \"text\": \"\"\n",
      "  },\n",
      "  {\n",
      "    \"tables\": \"\",\n",
      "    \"text\": \"\"\n",
      "  },\n",
      "  {\n",
      "    \"tables\": \"\",\n",
      "    \"text\": \"\"\n",
      "  },\n",
      "  {\n",
      "    \"tables\": \"\",\n",
      "    \"text\": \"\"\n",
      "  },\n",
      "  {\n",
      "    \"tables\": \"\",\n",
      "    \"text\": \"\"\n",
      "  },\n",
      "  {\n",
      "    \"tables\": \"\",\n",
      "    \"text\": \"\"\n",
      "  },\n",
      "  {\n",
      "    \"tables\": \"\",\n",
      "    \"text\": \"\"\n",
      "  },\n",
      "  {\n",
      "    \"tables\": \"\",\n",
      "    \"text\": \"\"\n",
      "  },\n",
      "  {\n",
      "    \"tables\": \"\",\n",
      "    \"text\": \"\"\n",
      "  }\n",
      "]\n"
     ]
    }
   ],
   "source": [
    "import pdfplumber\n",
    "\n",
    "filepath2 = \"./tables.pdf\"\n",
    "\n",
    "\n",
    "def extract_pdf_content_by_pdfplumber(filepath) -> list[dict]:\n",
    "    page_results = []\n",
    "    \n",
    "    with pdfplumber.open(filepath) as pdf:\n",
    "        for page in pdf.pages:\n",
    "            extracted_tables = []\n",
    "            tables = page.extract_tables()\n",
    "            page_text = page.extract_text()\n",
    "            for i, table in enumerate(tables):\n",
    "                table_content = []\n",
    "                # Convert table to a list of dictionaries\n",
    "                headers = table[0]  # First row as headers\n",
    "                rows = table[1:]  # Remaining rows\n",
    "                \n",
    "                for row in rows:\n",
    "                    row_text = \", \".join(f\"{headers[i]}: {row[i]}\" for i in range(len(row)))\n",
    "                    table_content.append(row_text)\n",
    "\n",
    "                table_str = f\"Table {i} content:\\n\" + \"\\n\".join(table_content)\n",
    "                extracted_tables.append(table_str)\n",
    "            \n",
    "            tables_str = \"\\n\\n\".join(extracted_tables)\n",
    "\n",
    "            page_results.append({\n",
    "                \"tables\": tables_str,\n",
    "                \"text\": page_text\n",
    "            })\n",
    "    \n",
    "\n",
    "    return page_results\n",
    "\n",
    "result = extract_pdf_content_by_pdfplumber(filepath)\n",
    "\n",
    "print(json.dumps(result, indent=2))"
   ]
  },
  {
   "cell_type": "code",
   "execution_count": 4,
   "metadata": {},
   "outputs": [
    {
     "data": {
      "text/plain": [
       "[{'tables': 'Table 0 content:\\nId: 1, Name: Enrico, Surname: Goerlitz\\nId: 2, Name: Teddy, Surname: Bear\\nId: 3, Name: Maikel, Surname: Fritz\\n\\nTable 1 content:\\nId: 1, Name: Enrico, Surname: Goerlitz\\nId: 2, Name: Teddy, Surname: Bear\\nId: 3, Name: Maikel, Surname: Fritz',\n",
       "  'text': 'Id Name Surname\\n1 Enrico Goerlitz\\n2 Teddy Bear\\n3 Maikel Fritz\\nId Name Surname\\n1 Enrico Goerlitz\\n2 Teddy Bear\\n3 Maikel Fritz'},\n",
       " {'tables': 'Table 0 content:\\nId: 1, Name: Enrico, Surname: Goerlitz\\nId: 2, Name: Teddy, Surname: Bear\\nId: 3, Name: Maikel, Surname: Fritz\\n\\nTable 1 content:\\nId: 1, Name: Enrico, Surname: Goerlitz\\nId: 2, Name: Teddy, Surname: Bear\\nId: 3, Name: Maikel, Surname: Fritz',\n",
       "  'text': 'Id Name Surname\\n1 Enrico Goerlitz\\n2 Teddy Bear\\n3 Maikel Fritz\\nId Name Surname\\n1 Enrico Goerlitz\\n2 Teddy Bear\\n3 Maikel Fritz\\nText here,\\nNext text'}]"
      ]
     },
     "execution_count": 4,
     "metadata": {},
     "output_type": "execute_result"
    }
   ],
   "source": [
    "result"
   ]
  },
  {
   "cell_type": "code",
   "execution_count": 11,
   "metadata": {},
   "outputs": [
    {
     "data": {
      "text/plain": [
       "['Id Name Surname\\n1 Enrico Goerlitz\\n2 Teddy Bear\\n\\n3 Maikel Fritz\\n\\nId Name Surname\\n1 Enrico Goerlitz\\n2 Teddy Bear\\n\\n3 Maikel Fritz\\n\\n',\n",
       " 'Id Name Surname\\n1 Enrico Goerlitz\\n2 Teddy Bear\\n\\n3 Maikel Fritz\\n\\nId Name Surname\\n1 Enrico Goerlitz\\n2 Teddy Bear\\n\\n3 Maikel Fritz\\n\\nText here,\\n\\nNext text\\n\\n']"
      ]
     },
     "execution_count": 11,
     "metadata": {},
     "output_type": "execute_result"
    }
   ],
   "source": [
    "images = convert_from_path(filepath2)\n",
    "ocr_pages = [pytesseract.image_to_string(img) for img in images]\n",
    "ocr_pages"
   ]
  },
  {
   "cell_type": "code",
   "execution_count": 12,
   "metadata": {},
   "outputs": [
    {
     "data": {
      "text/plain": [
       "[{'pdfplumber': {'tables': 'Table 0 content:\\nId: 1, Name: Enrico, Surname: Goerlitz\\nId: 2, Name: Teddy, Surname: Bear\\nId: 3, Name: Maikel, Surname: Fritz\\n\\nTable 1 content:\\nId: 1, Name: Enrico, Surname: Goerlitz\\nId: 2, Name: Teddy, Surname: Bear\\nId: 3, Name: Maikel, Surname: Fritz',\n",
       "   'text': 'Id Name Surname\\n1 Enrico Goerlitz\\n2 Teddy Bear\\n3 Maikel Fritz\\nId Name Surname\\n1 Enrico Goerlitz\\n2 Teddy Bear\\n3 Maikel Fritz'},\n",
       "  'ocr_text': 'Id Name Surname\\n1 Enrico Goerlitz\\n2 Teddy Bear\\n\\n3 Maikel Fritz\\n\\nId Name Surname\\n1 Enrico Goerlitz\\n2 Teddy Bear\\n\\n3 Maikel Fritz\\n\\n'},\n",
       " {'pdfplumber': {'tables': 'Table 0 content:\\nId: 1, Name: Enrico, Surname: Goerlitz\\nId: 2, Name: Teddy, Surname: Bear\\nId: 3, Name: Maikel, Surname: Fritz\\n\\nTable 1 content:\\nId: 1, Name: Enrico, Surname: Goerlitz\\nId: 2, Name: Teddy, Surname: Bear\\nId: 3, Name: Maikel, Surname: Fritz',\n",
       "   'text': 'Id Name Surname\\n1 Enrico Goerlitz\\n2 Teddy Bear\\n3 Maikel Fritz\\nId Name Surname\\n1 Enrico Goerlitz\\n2 Teddy Bear\\n3 Maikel Fritz\\nText here,\\nNext text'},\n",
       "  'ocr_text': 'Id Name Surname\\n1 Enrico Goerlitz\\n2 Teddy Bear\\n\\n3 Maikel Fritz\\n\\nId Name Surname\\n1 Enrico Goerlitz\\n2 Teddy Bear\\n\\n3 Maikel Fritz\\n\\nText here,\\n\\nNext text\\n\\n'}]"
      ]
     },
     "execution_count": 12,
     "metadata": {},
     "output_type": "execute_result"
    }
   ],
   "source": [
    "pages = [\n",
    "    {\n",
    "        \"pdfplumber\": pdfplumber_result,\n",
    "        \"ocr_text\": orc_text\n",
    "    }\n",
    "    for pdfplumber_result, orc_text in zip(result, ocr_pages)\n",
    "]\n",
    "pages"
   ]
  }
 ],
 "metadata": {
  "kernelspec": {
   "display_name": "base",
   "language": "python",
   "name": "python3"
  },
  "language_info": {
   "codemirror_mode": {
    "name": "ipython",
    "version": 3
   },
   "file_extension": ".py",
   "mimetype": "text/x-python",
   "name": "python",
   "nbconvert_exporter": "python",
   "pygments_lexer": "ipython3",
   "version": "3.11.4"
  }
 },
 "nbformat": 4,
 "nbformat_minor": 2
}
